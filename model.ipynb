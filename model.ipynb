{
 "cells": [
  {
   "cell_type": "code",
   "execution_count": null,
   "id": "b7367e49",
   "metadata": {},
   "outputs": [],
   "source": [
    "# %pip install numpy pandas scikit-learn matplotlib ipaddress matplotlib"
   ]
  },
  {
   "cell_type": "code",
   "execution_count": 1,
   "id": "ba83cf40",
   "metadata": {},
   "outputs": [],
   "source": [
    "import numpy as np\n",
    "import pandas as pd\n",
    "from sklearn.model_selection import train_test_split\n",
    "from sklearn.linear_model import LogisticRegression\n",
    "from sklearn.tree import DecisionTreeClassifier\n",
    "from sklearn.svm import SVC\n",
    "from sklearn.ensemble import RandomForestClassifier\n",
    "from sklearn.neighbors import KNeighborsClassifier\n",
    "from sklearn.preprocessing import StandardScaler, OneHotEncoder\n",
    "from sklearn.impute import SimpleImputer\n",
    "from sklearn.compose import ColumnTransformer\n",
    "from sklearn.metrics import roc_auc_score, roc_curve, confusion_matrix\n",
    "from sklearn.pipeline import Pipeline\n",
    "import matplotlib.pyplot as plt\n",
    "import ipaddress"
   ]
  },
  {
   "cell_type": "code",
   "execution_count": 2,
   "id": "f6fb5b90",
   "metadata": {},
   "outputs": [],
   "source": [
    "data = pd.read_csv('rba-dataset.csv', nrows=1000000)"
   ]
  },
  {
   "cell_type": "code",
   "execution_count": 15,
   "id": "d1daeae8",
   "metadata": {},
   "outputs": [
    {
     "name": "stdout",
     "output_type": "stream",
     "text": [
      "<class 'pandas.core.frame.DataFrame'>\n",
      "RangeIndex: 1000000 entries, 0 to 999999\n",
      "Data columns (total 12 columns):\n",
      " #   Column                    Non-Null Count    Dtype \n",
      "---  ------                    --------------    ----- \n",
      " 0   User ID                   1000000 non-null  int64 \n",
      " 1   IP Address                1000000 non-null  int64 \n",
      " 2   Country                   1000000 non-null  object\n",
      " 3   ASN                       1000000 non-null  int64 \n",
      " 4   User Agent String         1000000 non-null  int64 \n",
      " 5   Browser Name and Version  1000000 non-null  int64 \n",
      " 6   OS Name and Version       1000000 non-null  int64 \n",
      " 7   Device Type               999943 non-null   object\n",
      " 8   Login Successful          1000000 non-null  uint8 \n",
      " 9   Is Attack IP              1000000 non-null  uint8 \n",
      " 10  Is Account Takeover       1000000 non-null  uint8 \n",
      " 11  Login Hour                1000000 non-null  int32 \n",
      "dtypes: int32(1), int64(6), object(2), uint8(3)\n",
      "memory usage: 67.7+ MB\n"
     ]
    }
   ],
   "source": [
    "data.info()"
   ]
  },
  {
   "cell_type": "code",
   "execution_count": 3,
   "id": "58e949ee",
   "metadata": {},
   "outputs": [],
   "source": [
    "data['Login Hour'] = pd.to_datetime(data['Login Timestamp']).dt.hour"
   ]
  },
  {
   "cell_type": "code",
   "execution_count": 4,
   "id": "8babec44",
   "metadata": {},
   "outputs": [],
   "source": [
    "data['Is Account Takeover'] = data['Is Account Takeover'].astype(np.uint8)\n",
    "data['Is Attack IP'] = data['Is Attack IP'].astype(np.uint8)\n",
    "data['Login Successful'] = data['Login Successful'].astype(np.uint8)"
   ]
  },
  {
   "cell_type": "code",
   "execution_count": 5,
   "id": "8c115387",
   "metadata": {},
   "outputs": [],
   "source": [
    "data = data.drop(columns=[\"Round-Trip Time [ms]\", 'Region', 'City', 'Login Timestamp', 'index'])"
   ]
  },
  {
   "cell_type": "code",
   "execution_count": 6,
   "id": "19f35d83",
   "metadata": {},
   "outputs": [],
   "source": [
    "data['User Agent String'], _ = pd.factorize(data['User Agent String'])\n",
    "data['Browser Name and Version'], _ = pd.factorize(data['Browser Name and Version'])\n",
    "data['OS Name and Version'], _ = pd.factorize(data['OS Name and Version'])"
   ]
  },
  {
   "cell_type": "code",
   "execution_count": 7,
   "id": "73cb4ea5",
   "metadata": {},
   "outputs": [],
   "source": [
    "def ip_to_int(ip):\n",
    "    return int(ipaddress.ip_address(ip))\n",
    "\n",
    "data['IP Address'] = data['IP Address'].apply(ip_to_int)\n"
   ]
  },
  {
   "cell_type": "code",
   "execution_count": 8,
   "id": "d0bac153",
   "metadata": {},
   "outputs": [],
   "source": [
    "categorical_cols = ['Country', 'Device Type']\n",
    "numeric_cols = ['ASN', 'Login Hour', 'IP Address', 'User Agent String', 'Browser Name and Version', 'OS Name and Version']"
   ]
  },
  {
   "cell_type": "code",
   "execution_count": 9,
   "id": "5e0f0f2e",
   "metadata": {},
   "outputs": [],
   "source": [
    "features = data.drop(['Is Attack IP', 'Is Account Takeover'], axis=1)\n",
    "labels = data['Is Account Takeover']\n",
    "\n",
    "X_train, X_test, y_train, y_test = train_test_split(features, labels, test_size=0.2, random_state=42)"
   ]
  },
  {
   "cell_type": "code",
   "execution_count": 10,
   "id": "075c0869",
   "metadata": {},
   "outputs": [],
   "source": [
    "preprocessor = ColumnTransformer(\n",
    "    transformers=[\n",
    "        ('num', StandardScaler(), numeric_cols),\n",
    "        ('cat', OneHotEncoder(), categorical_cols)\n",
    "    ])\n",
    "\n",
    "# Classifiers\n",
    "classifiers = {\n",
    "    'logistic_regression': LogisticRegression(max_iter=1000),\n",
    "    'decision_tree': DecisionTreeClassifier(),\n",
    "    'svm': SVC(probability=True),\n",
    "    'random_forest': RandomForestClassifier()\n",
    "}\n",
    "\n",
    "# A function to choose classifiers\n",
    "def make_pipeline(classifier_key):\n",
    "    if classifier_key in classifiers:\n",
    "        clf = Pipeline(steps=[\n",
    "            ('preprocessor', preprocessor),\n",
    "            ('classifier', classifiers[classifier_key])\n",
    "        ])\n",
    "        return clf\n",
    "    else:\n",
    "        raise ValueError(f\"Classifier {classifier_key} is not defined\")"
   ]
  },
  {
   "cell_type": "code",
   "execution_count": 11,
   "id": "3ba96234",
   "metadata": {},
   "outputs": [
    {
     "name": "stdout",
     "output_type": "stream",
     "text": [
      "AUC Score: 0.951167600847346\n"
     ]
    }
   ],
   "source": [
    "classifier_key = 'logistic_regression'\n",
    "pipeline = make_pipeline(classifier_key)\n",
    "pipeline.fit(X_train, y_train)\n",
    "\n",
    "# Evaluation\n",
    "predictions = pipeline.predict(X_test)\n",
    "probs = pipeline.predict_proba(X_test)[:, 1]\n",
    "auc_score = roc_auc_score(y_test, probs)\n",
    "\n",
    "print(f\"AUC Score: {auc_score}\")"
   ]
  },
  {
   "cell_type": "code",
   "execution_count": 12,
   "id": "0f5067db",
   "metadata": {},
   "outputs": [
    {
     "name": "stdout",
     "output_type": "stream",
     "text": [
      "AUC Score: 0.8333308332958327\n"
     ]
    }
   ],
   "source": [
    "classifier_key = 'decision_tree'\n",
    "pipeline = make_pipeline(classifier_key)\n",
    "pipeline.fit(X_train, y_train)\n",
    "\n",
    "# Evaluation\n",
    "predictions = pipeline.predict(X_test)\n",
    "probs = pipeline.predict_proba(X_test)[:, 1]\n",
    "auc_score = roc_auc_score(y_test, probs)\n",
    "\n",
    "print(f\"AUC Score: {auc_score}\")"
   ]
  },
  {
   "cell_type": "code",
   "execution_count": 13,
   "id": "7341fe6b",
   "metadata": {},
   "outputs": [
    {
     "name": "stdout",
     "output_type": "stream",
     "text": [
      "AUC Score: 0.9879314856389512\n"
     ]
    }
   ],
   "source": [
    "classifier_key = 'svm'\n",
    "pipeline = make_pipeline(classifier_key)\n",
    "pipeline.fit(X_train, y_train)\n",
    "\n",
    "# Evaluation\n",
    "predictions = pipeline.predict(X_test)\n",
    "probs = pipeline.predict_proba(X_test)[:, 1]\n",
    "auc_score = roc_auc_score(y_test, probs)\n",
    "\n",
    "print(f\"AUC Score: {auc_score}\")"
   ]
  },
  {
   "cell_type": "code",
   "execution_count": 14,
   "id": "2d709771",
   "metadata": {},
   "outputs": [
    {
     "name": "stdout",
     "output_type": "stream",
     "text": [
      "AUC Score: 0.8332991661541589\n"
     ]
    }
   ],
   "source": [
    "classifier_key = 'random_forest'\n",
    "pipeline = make_pipeline(classifier_key)\n",
    "pipeline.fit(X_train, y_train)\n",
    "\n",
    "# Evaluation\n",
    "predictions = pipeline.predict(X_test)\n",
    "probs = pipeline.predict_proba(X_test)[:, 1]\n",
    "auc_score = roc_auc_score(y_test, probs)\n",
    "\n",
    "print(f\"AUC Score: {auc_score}\")"
   ]
  },
  {
   "cell_type": "code",
   "execution_count": null,
   "id": "0da176ac",
   "metadata": {},
   "outputs": [
    {
     "name": "stdout",
     "output_type": "stream",
     "text": [
      "^C\n",
      "Note: you may need to restart the kernel to use updated packages.\n"
     ]
    },
    {
     "name": "stderr",
     "output_type": "stream",
     "text": [
      "\n",
      "[notice] A new release of pip is available: 25.0.1 -> 25.1.1\n",
      "[notice] To update, run: python.exe -m pip install --upgrade pip\n"
     ]
    }
   ],
   "source": [
    "%pip install python-jose>=3.3.0 passlib>=1.7.4"
   ]
  },
  {
   "cell_type": "code",
   "execution_count": null,
   "id": "3ff82b7b",
   "metadata": {},
   "outputs": [],
   "source": [
    "from datetime import datetime, timedelta\n",
    "from typing import Optional\n",
    "import secrets\n",
    "\n",
    "from jose import JWTError, jwt\n",
    "from passlib.context import CryptContext\n",
    "\n",
    "from app.core.config import settings\n",
    "\n",
    "pwd_context = CryptContext(schemes=[\"bcrypt\"], deprecated=\"auto\")\n",
    "\n",
    "def verify_password(plain_password: str, hashed_password: str) -> bool:\n",
    "    return pwd_context.verify(plain_password, hashed_password)\n",
    "\n",
    "\n",
    "def get_password_hash(password: str) -> str:\n",
    "    return pwd_context.hash(password)"
   ]
  }
 ],
 "metadata": {
  "kernelspec": {
   "display_name": "venv",
   "language": "python",
   "name": "python3"
  },
  "language_info": {
   "codemirror_mode": {
    "name": "ipython",
    "version": 3
   },
   "file_extension": ".py",
   "mimetype": "text/x-python",
   "name": "python",
   "nbconvert_exporter": "python",
   "pygments_lexer": "ipython3",
   "version": "3.13.1"
  }
 },
 "nbformat": 4,
 "nbformat_minor": 5
}
